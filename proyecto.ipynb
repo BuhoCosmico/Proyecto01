{
 "cells": [
  {
   "attachments": {},
   "cell_type": "markdown",
   "metadata": {},
   "source": [
    "Transformacion/Tratamiento:\n",
    "\n",
    "Para el mismo utilizaremos el lenguaje Python y mas especificamente una de sus librerias.\n",
    "Comenzamos importando la libreria 'Pandas' y leyendo los archivos correspondientes para iniciar con el proceso de ETL."
   ]
  },
  {
   "cell_type": "code",
   "execution_count": 1,
   "metadata": {},
   "outputs": [],
   "source": [
    "import pandas as pd "
   ]
  },
  {
   "cell_type": "code",
   "execution_count": 2,
   "metadata": {},
   "outputs": [],
   "source": [
    "amazon = pd.read_csv(\"amazon_prime_titles-score.csv\")\n",
    "disney = pd.read_csv(\"disney_plus_titles-score.csv\")\n",
    "hulu = pd.read_csv(\"hulu_titles-score (2).csv\")\n",
    "netflix = pd.read_csv(\"netflix_titles-score.csv\")"
   ]
  },
  {
   "attachments": {},
   "cell_type": "markdown",
   "metadata": {},
   "source": [
    "Consigna N°1:\n",
    "Generar campo id: Cada id se compondrá de la primera letra del nombre de la plataforma, seguido del show_id ya presente en los datasets (ejemplo para títulos de Amazon = as123)"
   ]
  },
  {
   "cell_type": "code",
   "execution_count": 3,
   "metadata": {},
   "outputs": [],
   "source": [
    "amazon['id'] = 'a' + amazon['show_id']\n",
    "disney['id'] = 'd' + amazon['show_id']\n",
    "hulu['id'] = 'h' + amazon['show_id']\n",
    "netflix['id'] = 'n' + amazon['show_id']"
   ]
  },
  {
   "cell_type": "code",
   "execution_count": 4,
   "metadata": {},
   "outputs": [],
   "source": [
    "# Aca ordenamos las columnas, posicionando primero la columna 'id' \n",
    "amazon = amazon.reindex(['id','show_id','type',\t'title','director','cast','country','date_added','release_year','rating','duration','listed_in','description','score'], axis = 1)\n",
    "disney = disney.reindex( ['id','show_id','type',\t'title','director','cast','country','date_added','release_year','rating','duration','listed_in','description','score'], axis = 1)\n",
    "hulu = hulu.reindex( ['id','show_id','type',\t'title','director','cast','country','date_added','release_year','rating','duration','listed_in','description','score'], axis = 1)\n",
    "netflix = netflix.reindex(['id','show_id','type',\t'title','director','cast','country','date_added','release_year','rating','duration','listed_in','description','score'], axis = 1)\n"
   ]
  },
  {
   "attachments": {},
   "cell_type": "markdown",
   "metadata": {},
   "source": [
    "Consigna N°2:\n",
    "Los valores nulos del campo rating deberán reemplazarse por el string “G” (corresponde al maturity rating: “general for all audiences”)"
   ]
  },
  {
   "cell_type": "code",
   "execution_count": 5,
   "metadata": {},
   "outputs": [],
   "source": [
    "netflix.fillna({'rating': 'G'}, inplace = True)\n",
    "disney.fillna({'rating': 'G'}, inplace = True)\n",
    "hulu.fillna({'rating': 'G'}, inplace = True)\n",
    "amazon.fillna({'rating': 'G'}, inplace = True)\n"
   ]
  },
  {
   "attachments": {},
   "cell_type": "markdown",
   "metadata": {},
   "source": [
    "Consigna N°3:\n",
    "De haber fechas, deberán tener el formato AAAA-mm-dd"
   ]
  },
  {
   "cell_type": "code",
   "execution_count": 6,
   "metadata": {},
   "outputs": [],
   "source": [
    "# Utilizamos el funcion 'to_datetime' propia de la libreria de 'pandas'\n",
    "# Le pasamos de parametro \"errors='coerce'\" para reemplazar por 'NaT' a los valores que no corresponden con el formato\n",
    "amazon['date_added'] = pd.to_datetime(amazon['date_added'], errors='coerce')\n",
    "disney['date_added'] = pd.to_datetime(disney['date_added'], errors='coerce')\n",
    "hulu['date_added'] = pd.to_datetime(hulu['date_added'], errors='coerce')\n",
    "netflix['date_added'] = pd.to_datetime(netflix['date_added'], errors='coerce')"
   ]
  },
  {
   "attachments": {},
   "cell_type": "markdown",
   "metadata": {},
   "source": [
    "Consigna N°5:\n",
    "El campo duration debe convertirse en dos campos: duration_int y duration_type. El primero será un integer y el segundo un string indicando la unidad de medición de duración: min (minutos) o season (temporadas)"
   ]
  },
  {
   "cell_type": "code",
   "execution_count": 7,
   "metadata": {},
   "outputs": [],
   "source": [
    "# El uso del parametro 'expand' dentro de la funcion 'split' se utilizo para dividir las cadenas de texto en columnas separadas\n",
    "# el delimitador (para dividir el string) en este caso es ' ' \n",
    "# Amazon\n",
    "columna = amazon['duration'].str.split(expand = True)\n",
    "columna.columns = ['duration_int', 'duration_type']\n",
    "amazon = pd.concat ([amazon, columna], axis = 1)\n",
    "\n",
    "# Netflix\n",
    "columna = netflix['duration'].str.split(expand = True)\n",
    "columna.columns = ['duration_int', 'duration_type']\n",
    "netflix = pd.concat ([netflix, columna], axis = 1)\n",
    "\n",
    "# Disney\n",
    "columna = disney['duration'].str.split(expand = True)\n",
    "columna.columns = ['duration_int', 'duration_type']\n",
    "disney = pd.concat ([disney, columna], axis = 1)\n",
    "\n",
    "# Hulu\n",
    "columna = hulu['duration'].str.split(expand = True)\n",
    "columna.columns = ['duration_int', 'duration_type']\n",
    "hulu = pd.concat ([hulu, columna], axis = 1)"
   ]
  },
  {
   "cell_type": "code",
   "execution_count": 8,
   "metadata": {},
   "outputs": [],
   "source": [
    "amazon.drop(columns = 'duration', inplace = True)\n",
    "netflix.drop(columns = 'duration', inplace = True)\n",
    "hulu.drop(columns = 'duration', inplace = True)\n",
    "disney.drop(columns = 'duration', inplace = True)"
   ]
  },
  {
   "attachments": {},
   "cell_type": "markdown",
   "metadata": {},
   "source": [
    "Consigna N°4:\n",
    "Los campos de texto deberán estar en minúsculas, sin excepciones"
   ]
  },
  {
   "cell_type": "code",
   "execution_count": 9,
   "metadata": {},
   "outputs": [],
   "source": [
    "# Netflix\n",
    "netflix['id'] = netflix['id'].str.lower()\n",
    "netflix['type'] = netflix['type'].str.lower()\n",
    "netflix['title'] = netflix['title'].str.lower()\n",
    "netflix['director'] = netflix['director'].str.lower()\n",
    "netflix['cast'] = netflix['cast'].str.lower()\n",
    "netflix['country'] = netflix['country'].str.lower()\n",
    "netflix['rating'] = netflix['rating'].str.lower()\n",
    "netflix['listed_in'] = netflix['listed_in'].str.lower()\n",
    "netflix['description'] = netflix['description'].str.lower()\n",
    "netflix['duration_type'] = netflix['duration_type'].str.lower()\n"
   ]
  },
  {
   "cell_type": "code",
   "execution_count": 10,
   "metadata": {},
   "outputs": [],
   "source": [
    "# Hulu\n",
    "hulu['cast'] = hulu['cast'].astype('str')\n",
    "hulu['id'] = hulu['id'].str.lower()\n",
    "hulu['type'] = hulu['type'].str.lower()\n",
    "hulu['title'] = hulu['title'].str.lower()\n",
    "hulu['director'] = hulu['director'].str.lower()\n",
    "hulu['cast'] = hulu['cast'].str.lower()\n",
    "hulu['country'] = hulu['country'].str.lower()\n",
    "hulu['rating'] = hulu['rating'].str.lower()\n",
    "hulu['listed_in'] = hulu['listed_in'].str.lower()\n",
    "hulu['description'] = hulu['description'].str.lower()\n",
    "hulu['duration_type'] = hulu['duration_type'].str.lower()"
   ]
  },
  {
   "cell_type": "code",
   "execution_count": 11,
   "metadata": {},
   "outputs": [],
   "source": [
    "# Disney\n",
    "disney['id'] = disney['id'].str.lower()\n",
    "disney['type'] = disney['type'].str.lower()\n",
    "disney['title'] = disney['title'].str.lower()\n",
    "disney['director'] = disney['director'].str.lower()\n",
    "disney['cast'] = disney['cast'].str.lower()\n",
    "disney['country'] = disney['country'].str.lower()\n",
    "disney['rating'] = disney['rating'].str.lower()\n",
    "disney['listed_in'] = disney['listed_in'].str.lower()\n",
    "disney['description'] = disney['description'].str.lower()\n",
    "disney['duration_type'] = disney['duration_type'].str.lower()"
   ]
  },
  {
   "cell_type": "code",
   "execution_count": 12,
   "metadata": {},
   "outputs": [],
   "source": [
    "# amazon\n",
    "amazon['id'] = amazon['id'].str.lower()\n",
    "amazon['type'] = amazon['type'].str.lower()\n",
    "amazon['title'] = amazon['title'].str.lower()\n",
    "amazon['director'] = amazon['director'].str.lower()\n",
    "amazon['cast'] = amazon['cast'].str.lower()\n",
    "amazon['country'] = amazon['country'].str.lower()\n",
    "amazon['rating'] = amazon['rating'].str.lower()\n",
    "amazon['listed_in'] = amazon['listed_in'].str.lower()\n",
    "amazon['description'] = amazon['description'].str.lower()\n",
    "amazon['duration_type'] = amazon['duration_type'].str.lower()"
   ]
  },
  {
   "cell_type": "code",
   "execution_count": 13,
   "metadata": {},
   "outputs": [],
   "source": [
    "# Normalizamos un valor que se encuentra en plural en la columna 'duration_type', reemplazandolo por el mismo pero en sigular\n",
    "disney['duration_type'].replace({'seasons':'season'}, inplace = True)\n",
    "netflix['duration_type'].replace({'seasons':'season'}, inplace = True)\n",
    "hulu['duration_type'].replace({'seasons':'season'}, inplace = True)\n",
    "amazon['duration_type'].replace({'seasons':'season'}, inplace = True)"
   ]
  },
  {
   "attachments": {},
   "cell_type": "markdown",
   "metadata": {},
   "source": [
    "Ahora unimos los DataFrame en un solo DataFrame"
   ]
  },
  {
   "cell_type": "code",
   "execution_count": 14,
   "metadata": {},
   "outputs": [],
   "source": [
    "frame = [amazon, netflix, hulu, disney]\n",
    "new_dataset = pd.concat(frame)"
   ]
  },
  {
   "cell_type": "code",
   "execution_count": 198,
   "metadata": {},
   "outputs": [],
   "source": [
    "netflix.to_csv('netflix_limpio.csv', index=False)\n",
    "disney.to_csv('disney_limpio.csv', index=False)\n",
    "hulu.to_csv('hulu_limpio.csv', index=False)\n",
    "amazon.to_csv('amazon_limpio.csv', index=False)\n",
    "new_dataset.to_csv('new_dataset.csv', index = False)"
   ]
  }
 ],
 "metadata": {
  "kernelspec": {
   "display_name": "Python 3",
   "language": "python",
   "name": "python3"
  },
  "language_info": {
   "codemirror_mode": {
    "name": "ipython",
    "version": 3
   },
   "file_extension": ".py",
   "mimetype": "text/x-python",
   "name": "python",
   "nbconvert_exporter": "python",
   "pygments_lexer": "ipython3",
   "version": "3.9.2 (tags/v3.9.2:1a79785, Feb 19 2021, 13:44:55) [MSC v.1928 64 bit (AMD64)]"
  },
  "orig_nbformat": 4,
  "vscode": {
   "interpreter": {
    "hash": "c327792ab084404e09c997927a75adb34a10674d6d3a8f5da9eb5f77b6911028"
   }
  }
 },
 "nbformat": 4,
 "nbformat_minor": 2
}
